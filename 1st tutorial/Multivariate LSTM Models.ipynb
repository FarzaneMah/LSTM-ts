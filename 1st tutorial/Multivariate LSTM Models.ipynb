{
 "cells": [
  {
   "cell_type": "markdown",
   "id": "41ee938a",
   "metadata": {},
   "source": [
    "### Time Series Forcasting with Long Short-Term Memory 2\n",
    "\n",
    "In this notebook I will investigate:\n",
    "- univariate time series forcasting\n",
    "- multivariate time series forcasting\n",
    "- multi-step time series forcasting\n",
    "\n",
    "time series forcasting.\n",
    "\n",
    "This notebook is based on the tutorial by Jason Brownlee and here is the link to the tutorial\n",
    "https://machinelearningmastery.com/how-to-develop-lstm-models-for-time-series-forecasting/\n"
   ]
  },
  {
   "cell_type": "markdown",
   "id": "9c27d6bf",
   "metadata": {},
   "source": [
    "## Multivariate LSTM Models\n"
   ]
  },
  {
   "cell_type": "markdown",
   "id": "29f6177d",
   "metadata": {},
   "source": [
    "In the case of multivariate time series, it means that we have more than one observation for each time step.\n",
    "\n",
    "The problem can have Multiple Input Series or Multiple Parallel Series.\n",
    "\n",
    "#### Multiple Input Series"
   ]
  },
  {
   "cell_type": "code",
   "execution_count": null,
   "id": "b3ee5752",
   "metadata": {},
   "outputs": [],
   "source": []
  }
 ],
 "metadata": {
  "kernelspec": {
   "display_name": "Python 3",
   "language": "python",
   "name": "python3"
  },
  "language_info": {
   "codemirror_mode": {
    "name": "ipython",
    "version": 3
   },
   "file_extension": ".py",
   "mimetype": "text/x-python",
   "name": "python",
   "nbconvert_exporter": "python",
   "pygments_lexer": "ipython3",
   "version": "3.6.13"
  }
 },
 "nbformat": 4,
 "nbformat_minor": 5
}
