{
 "cells": [
  {
   "cell_type": "markdown",
   "id": "3d77f5f0",
   "metadata": {},
   "source": [
    "### Time Series Forcasting with Long Short-Term Memory 2\n",
    "\n",
    "In this notebook I will investigate:\n",
    "- univariate time series forcasting\n",
    "- multivariate time series forcasting\n",
    "- multi-step time series forcasting\n",
    "\n",
    "time series forcasting.\n",
    "\n",
    "This notebook is based on the tutorial by Jason Brownlee and here is the link to the tutorial\n",
    "https://machinelearningmastery.com/how-to-develop-lstm-models-for-time-series-forecasting/\n"
   ]
  },
  {
   "cell_type": "markdown",
   "id": "44e4beaf",
   "metadata": {},
   "source": [
    "## Multivariate LSTM Models\n"
   ]
  },
  {
   "cell_type": "markdown",
   "id": "78b344eb",
   "metadata": {},
   "source": [
    "In the case of multivariate time series, it means that we have more than one observation for each time step.\n"
   ]
  }
 ],
 "metadata": {
  "kernelspec": {
   "display_name": "Python 3",
   "language": "python",
   "name": "python3"
  },
  "language_info": {
   "codemirror_mode": {
    "name": "ipython",
    "version": 3
   },
   "file_extension": ".py",
   "mimetype": "text/x-python",
   "name": "python",
   "nbconvert_exporter": "python",
   "pygments_lexer": "ipython3",
   "version": "3.6.13"
  }
 },
 "nbformat": 4,
 "nbformat_minor": 5
}
