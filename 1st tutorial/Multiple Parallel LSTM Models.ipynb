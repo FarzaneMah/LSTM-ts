{
 "cells": [
  {
   "cell_type": "markdown",
   "metadata": {},
   "source": [
    "### Multiple Parallel Series\n",
    "\n",
    "When there are multiple parallel time series and a value must be predicted for each we are dealing with Multiple Parallel timeSeries.\n",
    "\n",
    "For example, in previous notebook (Multivariate LSTM Model) if we want to predict the data for each of the three time series for the next time step."
   ]
  },
  {
   "cell_type": "code",
   "execution_count": 1,
   "metadata": {},
   "outputs": [],
   "source": [
    "import numpy as np\n",
    "from keras.models import Sequential\n",
    "from keras.layers import LSTM\n",
    "from keras.layers import Dense"
   ]
  },
  {
   "cell_type": "code",
   "execution_count": 3,
   "metadata": {},
   "outputs": [],
   "source": [
    "# define input sequence\n",
    "in_seq1 = np.array([10, 20, 30, 40, 50, 60, 70, 80, 90])\n",
    "in_seq2 = np.array([15, 25, 35, 45, 55, 65, 75, 85, 95])"
   ]
  },
  {
   "cell_type": "code",
   "execution_count": 4,
   "metadata": {},
   "outputs": [],
   "source": [
    "# split a multivariate sequence into samples\n",
    "def split_sequences(sequences, n_steps):\n",
    "    X, y = [], []\n",
    "    for i in range(len(sequences)):\n",
    "        # find the end of this pattern\n",
    "        end_ix = i + n_steps\n",
    "        # check if we are beyond the dataset\n",
    "        if end_ix > len(sequences)-1:\n",
    "            break\n",
    "        # gather input and output parts of the pattern\n",
    "        seq_x, seq_y = sequences[i:end_ix, :], sequences[end_ix, :]\n",
    "        X.append(seq_x)\n",
    "        y.append(seq_y)\n",
    "        print(X, y)\n",
    "    return np.array(X), np.array(y)"
   ]
  },
  {
   "cell_type": "code",
   "execution_count": 5,
   "metadata": {},
   "outputs": [
    {
     "ename": "IndexError",
     "evalue": "too many indices for array: array is 1-dimensional, but 2 were indexed",
     "output_type": "error",
     "traceback": [
      "\u001b[1;31m---------------------------------------------------------------------------\u001b[0m",
      "\u001b[1;31mIndexError\u001b[0m                                Traceback (most recent call last)",
      "\u001b[1;32m<ipython-input-5-c7ad8c210637>\u001b[0m in \u001b[0;36m<module>\u001b[1;34m\u001b[0m\n\u001b[1;32m----> 1\u001b[1;33m \u001b[0msplit_sequences\u001b[0m\u001b[1;33m(\u001b[0m\u001b[0min_seq1\u001b[0m\u001b[1;33m,\u001b[0m\u001b[1;36m3\u001b[0m\u001b[1;33m)\u001b[0m\u001b[1;33m\u001b[0m\u001b[1;33m\u001b[0m\u001b[0m\n\u001b[0m",
      "\u001b[1;32m<ipython-input-4-6d0e6ec2429d>\u001b[0m in \u001b[0;36msplit_sequences\u001b[1;34m(sequences, n_steps)\u001b[0m\n\u001b[0;32m      9\u001b[0m             \u001b[1;32mbreak\u001b[0m\u001b[1;33m\u001b[0m\u001b[1;33m\u001b[0m\u001b[0m\n\u001b[0;32m     10\u001b[0m         \u001b[1;31m# gather input and output parts of the pattern\u001b[0m\u001b[1;33m\u001b[0m\u001b[1;33m\u001b[0m\u001b[1;33m\u001b[0m\u001b[0m\n\u001b[1;32m---> 11\u001b[1;33m         \u001b[0mseq_x\u001b[0m\u001b[1;33m,\u001b[0m \u001b[0mseq_y\u001b[0m \u001b[1;33m=\u001b[0m \u001b[0msequences\u001b[0m\u001b[1;33m[\u001b[0m\u001b[0mi\u001b[0m\u001b[1;33m:\u001b[0m\u001b[0mend_ix\u001b[0m\u001b[1;33m,\u001b[0m \u001b[1;33m:\u001b[0m\u001b[1;33m]\u001b[0m\u001b[1;33m,\u001b[0m \u001b[0msequences\u001b[0m\u001b[1;33m[\u001b[0m\u001b[0mend_ix\u001b[0m\u001b[1;33m,\u001b[0m \u001b[1;33m:\u001b[0m\u001b[1;33m]\u001b[0m\u001b[1;33m\u001b[0m\u001b[1;33m\u001b[0m\u001b[0m\n\u001b[0m\u001b[0;32m     12\u001b[0m         \u001b[0mX\u001b[0m\u001b[1;33m.\u001b[0m\u001b[0mappend\u001b[0m\u001b[1;33m(\u001b[0m\u001b[0mseq_x\u001b[0m\u001b[1;33m)\u001b[0m\u001b[1;33m\u001b[0m\u001b[1;33m\u001b[0m\u001b[0m\n\u001b[0;32m     13\u001b[0m         \u001b[0my\u001b[0m\u001b[1;33m.\u001b[0m\u001b[0mappend\u001b[0m\u001b[1;33m(\u001b[0m\u001b[0mseq_y\u001b[0m\u001b[1;33m)\u001b[0m\u001b[1;33m\u001b[0m\u001b[1;33m\u001b[0m\u001b[0m\n",
      "\u001b[1;31mIndexError\u001b[0m: too many indices for array: array is 1-dimensional, but 2 were indexed"
     ]
    }
   ],
   "source": [
    "split_sequences(in_seq1,3)"
   ]
  },
  {
   "cell_type": "code",
   "execution_count": 10,
   "metadata": {},
   "outputs": [
    {
     "name": "stdout",
     "output_type": "stream",
     "text": [
      "[array([[10, 15, 25],\n",
      "       [20, 25, 45],\n",
      "       [30, 35, 65]])] [array([40, 45, 85])]\n",
      "[array([[10, 15, 25],\n",
      "       [20, 25, 45],\n",
      "       [30, 35, 65]]), array([[20, 25, 45],\n",
      "       [30, 35, 65],\n",
      "       [40, 45, 85]])] [array([40, 45, 85]), array([ 50,  55, 105])]\n",
      "[array([[10, 15, 25],\n",
      "       [20, 25, 45],\n",
      "       [30, 35, 65]]), array([[20, 25, 45],\n",
      "       [30, 35, 65],\n",
      "       [40, 45, 85]]), array([[ 30,  35,  65],\n",
      "       [ 40,  45,  85],\n",
      "       [ 50,  55, 105]])] [array([40, 45, 85]), array([ 50,  55, 105]), array([ 60,  65, 125])]\n",
      "[array([[10, 15, 25],\n",
      "       [20, 25, 45],\n",
      "       [30, 35, 65]]), array([[20, 25, 45],\n",
      "       [30, 35, 65],\n",
      "       [40, 45, 85]]), array([[ 30,  35,  65],\n",
      "       [ 40,  45,  85],\n",
      "       [ 50,  55, 105]]), array([[ 40,  45,  85],\n",
      "       [ 50,  55, 105],\n",
      "       [ 60,  65, 125]])] [array([40, 45, 85]), array([ 50,  55, 105]), array([ 60,  65, 125]), array([ 70,  75, 145])]\n",
      "[array([[10, 15, 25],\n",
      "       [20, 25, 45],\n",
      "       [30, 35, 65]]), array([[20, 25, 45],\n",
      "       [30, 35, 65],\n",
      "       [40, 45, 85]]), array([[ 30,  35,  65],\n",
      "       [ 40,  45,  85],\n",
      "       [ 50,  55, 105]]), array([[ 40,  45,  85],\n",
      "       [ 50,  55, 105],\n",
      "       [ 60,  65, 125]]), array([[ 50,  55, 105],\n",
      "       [ 60,  65, 125],\n",
      "       [ 70,  75, 145]])] [array([40, 45, 85]), array([ 50,  55, 105]), array([ 60,  65, 125]), array([ 70,  75, 145]), array([ 80,  85, 165])]\n",
      "[array([[10, 15, 25],\n",
      "       [20, 25, 45],\n",
      "       [30, 35, 65]]), array([[20, 25, 45],\n",
      "       [30, 35, 65],\n",
      "       [40, 45, 85]]), array([[ 30,  35,  65],\n",
      "       [ 40,  45,  85],\n",
      "       [ 50,  55, 105]]), array([[ 40,  45,  85],\n",
      "       [ 50,  55, 105],\n",
      "       [ 60,  65, 125]]), array([[ 50,  55, 105],\n",
      "       [ 60,  65, 125],\n",
      "       [ 70,  75, 145]]), array([[ 60,  65, 125],\n",
      "       [ 70,  75, 145],\n",
      "       [ 80,  85, 165]])] [array([40, 45, 85]), array([ 50,  55, 105]), array([ 60,  65, 125]), array([ 70,  75, 145]), array([ 80,  85, 165]), array([ 90,  95, 185])]\n",
      "(6, 3, 3) (6, 3)\n",
      "[[10 15 25]\n",
      " [20 25 45]\n",
      " [30 35 65]]\n",
      "[[20 25 45]\n",
      " [30 35 65]\n",
      " [40 45 85]]\n",
      "[[ 30  35  65]\n",
      " [ 40  45  85]\n",
      " [ 50  55 105]]\n",
      "[[ 40  45  85]\n",
      " [ 50  55 105]\n",
      " [ 60  65 125]]\n",
      "[[ 50  55 105]\n",
      " [ 60  65 125]\n",
      " [ 70  75 145]]\n",
      "[[ 60  65 125]\n",
      " [ 70  75 145]\n",
      " [ 80  85 165]]\n"
     ]
    }
   ],
   "source": [
    "# define input sequence\n",
    "in_seq1 = np.array([10, 20, 30, 40, 50, 60, 70, 80, 90])\n",
    "in_seq2 = np.array([15, 25, 35, 45, 55, 65, 75, 85, 95])\n",
    "out_seq = np.array([in_seq1[i]+in_seq2[i] for i in range(len(in_seq1))])\n",
    "# convert to [rows, columns] structure\n",
    "in_seq1 = in_seq1.reshape((len(in_seq1), 1))\n",
    "in_seq2 = in_seq2.reshape((len(in_seq2), 1))\n",
    "out_seq = out_seq.reshape((len(out_seq), 1))\n",
    "# horizontally stack columns\n",
    "dataset = np.hstack((in_seq1, in_seq2, out_seq))\n",
    "# choose a number of time steps\n",
    "n_steps = 3\n",
    "# convert into input/output\n",
    "X, y = split_sequences(dataset, n_steps)\n",
    "print(X.shape, y.shape)\n",
    "# summarize the data\n",
    "for i in range(len(X)):\n",
    "    print(X[i])"
   ]
  },
  {
   "cell_type": "code",
   "execution_count": 9,
   "metadata": {},
   "outputs": [
    {
     "data": {
      "text/plain": [
       "array([10, 20, 30, 40, 50, 60, 70, 80, 90])"
      ]
     },
     "execution_count": 9,
     "metadata": {},
     "output_type": "execute_result"
    }
   ],
   "source": [
    "np.array([10, 20, 30, 40, 50, 60, 70, 80, 90])"
   ]
  },
  {
   "cell_type": "code",
   "execution_count": null,
   "metadata": {},
   "outputs": [],
   "source": []
  }
 ],
 "metadata": {
  "kernelspec": {
   "display_name": "Python 3",
   "language": "python",
   "name": "python3"
  },
  "language_info": {
   "codemirror_mode": {
    "name": "ipython",
    "version": 3
   },
   "file_extension": ".py",
   "mimetype": "text/x-python",
   "name": "python",
   "nbconvert_exporter": "python",
   "pygments_lexer": "ipython3",
   "version": "3.6.13"
  }
 },
 "nbformat": 4,
 "nbformat_minor": 2
}
